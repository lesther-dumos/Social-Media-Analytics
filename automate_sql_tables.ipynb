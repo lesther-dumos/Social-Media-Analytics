{
 "cells": [
  {
   "cell_type": "code",
   "execution_count": 12,
   "metadata": {},
   "outputs": [],
   "source": [
    "# Libraries\n",
    "import os\n",
    "import pandas as pd\n",
    "import psycopg2\n",
    "from psycopg2 import sql\n",
    "from dotenv import load_dotenv"
   ]
  },
  {
   "cell_type": "code",
   "execution_count": 13,
   "metadata": {},
   "outputs": [],
   "source": [
    "# Step 1: Load environment variables from pgadmin.env file\n",
    "load_dotenv('database_info.env')\n",
    "\n",
    "# Step 2: Read environment variables\n",
    "db_name = os.getenv('DB_NAME')\n",
    "db_user = os.getenv('DB_USER')\n",
    "db_password = os.getenv('DB_PASSWORD')\n",
    "db_host = os.getenv('DB_HOST')\n",
    "db_port = os.getenv('DB_PORT')"
   ]
  },
  {
   "cell_type": "code",
   "execution_count": 14,
   "metadata": {},
   "outputs": [],
   "source": [
    "# Step 3: Load the CSV file into a pandas DataFrame\n",
    "csv_file = 'data/social_media_entertainment_data.csv'  # Replace with the path to your CSV file\n",
    "df = pd.read_csv(csv_file)"
   ]
  },
  {
   "cell_type": "code",
   "execution_count": 15,
   "metadata": {},
   "outputs": [
    {
     "name": "stdout",
     "output_type": "stream",
     "text": [
      "Connected to PostgreSQL successfully!\n"
     ]
    }
   ],
   "source": [
    "# Step 4: Connect to PostgreSQL\n",
    "try:\n",
    "    conn = psycopg2.connect(\n",
    "        dbname=db_name,\n",
    "        user=db_user,\n",
    "        password=db_password,\n",
    "        host=db_host,\n",
    "        port=db_port\n",
    "    )\n",
    "    cursor = conn.cursor()\n",
    "    print(\"Connected to PostgreSQL successfully!\")\n",
    "except psycopg2.Error as e:\n",
    "    print(f\"Error connecting to PostgreSQL: {e}\")\n",
    "    exit()"
   ]
  },
  {
   "cell_type": "code",
   "execution_count": 16,
   "metadata": {},
   "outputs": [
    {
     "name": "stdout",
     "output_type": "stream",
     "text": [
      "Error creating table: relation \"kaggle_data\" already exists\n",
      "\n",
      "Error importing data: current transaction is aborted, commands ignored until end of transaction block\n",
      "\n",
      "Connection closed.\n"
     ]
    }
   ],
   "source": [
    "# Step 5: Generate the CREATE TABLE SQL statement\n",
    "table_name = 'kaggle_data'  # Replace with your desired table name\n",
    "columns = []\n",
    "\n",
    "# Infer data types from the CSV file\n",
    "for col in df.columns:\n",
    "    # Get the first non-null value in the column\n",
    "    sample_value = df[col].dropna().iloc[0] if not df[col].dropna().empty else None\n",
    "\n",
    "    # Map Python data types to PostgreSQL data types\n",
    "    if isinstance(sample_value, str):\n",
    "        sql_type = 'TEXT'\n",
    "    elif isinstance(sample_value, int):\n",
    "        sql_type = 'INTEGER'\n",
    "    elif isinstance(sample_value, float):\n",
    "        sql_type = 'FLOAT'\n",
    "    else:\n",
    "        sql_type = 'TEXT'  # Default to TEXT if unsure\n",
    "\n",
    "    # Add the column definition to the list\n",
    "    columns.append(f'\"{col}\" {sql_type}')  # Use double quotes for column names\n",
    "\n",
    "# Combine columns into a CREATE TABLE SQL statement\n",
    "create_table_sql = f\"CREATE TABLE {table_name} ({', '.join(columns)});\"\n",
    "\n",
    "# Step 6: Execute the CREATE TABLE statement\n",
    "try:\n",
    "    cursor.execute(create_table_sql)\n",
    "    print(f\"Table '{table_name}' created successfully.\")\n",
    "except psycopg2.Error as e:\n",
    "    print(f\"Error creating table: {e}\")\n",
    "\n",
    "# Step 7: Import the CSV data into the table\n",
    "try:\n",
    "    # Save the DataFrame to a temporary CSV file (required for COPY)\n",
    "    temp_csv = 'temp.csv'\n",
    "    df.to_csv(temp_csv, index=False, header=False)\n",
    "\n",
    "    # Use the COPY command to import the data\n",
    "    with open(temp_csv, 'r') as f:\n",
    "        cursor.copy_expert(f\"COPY {table_name} FROM STDIN WITH CSV\", f)\n",
    "    print(f\"Data imported into '{table_name}' successfully.\")\n",
    "except psycopg2.Error as e:\n",
    "    print(f\"Error importing data: {e}\")\n",
    "finally:\n",
    "    # Clean up the temporary CSV file\n",
    "    import os\n",
    "    if os.path.exists(temp_csv):\n",
    "        os.remove(temp_csv)\n",
    "\n",
    "# Step 8: Commit and close the connection\n",
    "conn.commit()\n",
    "cursor.close()\n",
    "conn.close()\n",
    "print(\"Connection closed.\")\n"
   ]
  }
 ],
 "metadata": {
  "kernelspec": {
   "display_name": "Python 3",
   "language": "python",
   "name": "python3"
  },
  "language_info": {
   "codemirror_mode": {
    "name": "ipython",
    "version": 3
   },
   "file_extension": ".py",
   "mimetype": "text/x-python",
   "name": "python",
   "nbconvert_exporter": "python",
   "pygments_lexer": "ipython3",
   "version": "3.10.11"
  }
 },
 "nbformat": 4,
 "nbformat_minor": 2
}
